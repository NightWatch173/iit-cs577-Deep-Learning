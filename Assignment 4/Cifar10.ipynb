{
 "cells": [
  {
   "cell_type": "code",
   "execution_count": 0,
   "metadata": {
    "colab": {},
    "colab_type": "code",
    "id": "bxTBQ0A3sp14"
   },
   "outputs": [],
   "source": [
    "from zipfile import ZipFile\n",
    "filename = \"cifar-10-batches-py.zip\"\n",
    "\n",
    "with ZipFile(filename,'r') as zip:\n",
    "  zip.extractall()\n",
    "  print('Done')"
   ]
  },
  {
   "cell_type": "code",
   "execution_count": 0,
   "metadata": {
    "colab": {},
    "colab_type": "code",
    "id": "HlC9RIBUyQME"
   },
   "outputs": [],
   "source": [
    "import numpy as np\n",
    "import matplotlib.pyplot as plt\n",
    "import pickle\n",
    "\n",
    "def unpickle(file):\n",
    "    with open(file,'rb') as f:\n",
    "        data = pickle.load(f,encoding='latin-1')\n",
    "        return data\n",
    "\n",
    "def load_cifar10_data(data_dir):\n",
    "    train_data = None\n",
    "    train_labels = []\n",
    "    for i in range(1,6):\n",
    "        data_dic = unpickle(data_dir+\"/data_batch_{}\".format(i))\n",
    "        if i == 1:\n",
    "            train_data = data_dic['data']\n",
    "        else:\n",
    "            train_data = np.vstack((train_data,data_dic['data']))\n",
    "        train_labels +=data_dic['labels']\n",
    "    \n",
    "    test_data_dic = unpickle(data_dir+\"/test_batch\")\n",
    "    test_data = test_data_dic['data']\n",
    "    test_labels = test_data_dic['labels']\n",
    "    \n",
    "    train_data = train_data.reshape((len(train_data),3,32,32))\n",
    "    train_data = np.rollaxis(train_data,1,4)\n",
    "    train_labels = np.array(train_labels)\n",
    "    \n",
    "    test_data = test_data.reshape((len(test_data),3,32,32))\n",
    "    test_data = np.rollaxis(test_data,1,4)\n",
    "    test_labels = np.array(test_labels)\n",
    "    \n",
    "    return train_data,train_labels,test_data,test_labels "
   ]
  },
  {
   "cell_type": "code",
   "execution_count": 0,
   "metadata": {
    "colab": {},
    "colab_type": "code",
    "id": "Mp40FGNcyWDQ"
   },
   "outputs": [],
   "source": [
    "data_dic = unpickle(\"cifar-10-batches-py//\" + \"/data_batch_1\")"
   ]
  },
  {
   "cell_type": "code",
   "execution_count": 0,
   "metadata": {
    "colab": {},
    "colab_type": "code",
    "id": "5mg8Tdj6yjwO"
   },
   "outputs": [],
   "source": [
    "# import the necessary pacakges\n",
    "from keras.models import Sequential\n",
    "from keras.layers.convolutional import Conv2D\n",
    "from keras.layers.normalization import BatchNormalization\n",
    "from keras.layers.convolutional import MaxPooling2D\n",
    "from keras.layers.core import Activation\n",
    "from keras.layers.core import Flatten\n",
    "from keras.layers.core import Dropout\n",
    "from keras.layers.core import Dense\n",
    "from keras.layers import Input\n",
    "from keras.layers import concatenate\n",
    "from keras.layers import add\n",
    "from keras.models import Model\n",
    "from tensorflow import  keras\n",
    "\n",
    "\n",
    "from keras.optimizers import Adam\n",
    "from keras.datasets import cifar10\n",
    "import keras.utils as np_utils\n",
    "\n",
    "from matplotlib import pyplot as plt\n",
    "import numpy as np\n",
    "import tensorflow as tf\n",
    "print(tf.test.is_built_with_cuda())\n",
    "import cv2\n",
    "import pickle"
   ]
  },
  {
   "cell_type": "code",
   "execution_count": 0,
   "metadata": {
    "colab": {},
    "colab_type": "code",
    "id": "6EtQQOs1ynee"
   },
   "outputs": [],
   "source": [
    "data_dir = \"cifar-10-batches-py//\"\n",
    "trainX,trainY,testX,testY = load_cifar10_data(data_dir)\n",
    "\n",
    "print(trainX.shape)\n",
    "print(trainY.shape)\n",
    "\n",
    "print(testX.shape)\n",
    "print(testY.shape)\n",
    "\n",
    "# In order to check where the data shows an image correctly\n",
    "plt.imshow(trainX[2])\n",
    "plt.show()"
   ]
  },
  {
   "cell_type": "code",
   "execution_count": 0,
   "metadata": {
    "colab": {},
    "colab_type": "code",
    "id": "uI8y5TvKyux9"
   },
   "outputs": [],
   "source": [
    "# perform categorical encoding\n",
    "trainY = np_utils.to_categorical(trainY,10)\n",
    "testY = np_utils.to_categorical(testY,10)"
   ]
  },
  {
   "cell_type": "code",
   "execution_count": 0,
   "metadata": {
    "colab": {},
    "colab_type": "code",
    "id": "yy1I6mgbyu7z"
   },
   "outputs": [],
   "source": [
    "# vectorize the data\n",
    "trainX = trainX.astype(\"float32\")/255.0\n",
    "testX = testX.astype(\"float32\")/255.0"
   ]
  },
  {
   "cell_type": "code",
   "execution_count": 0,
   "metadata": {
    "colab": {},
    "colab_type": "code",
    "id": "tYybn-EQywU0"
   },
   "outputs": [],
   "source": [
    "# Split the data into training and validation data\n",
    "valX = trainX[:10000]\n",
    "trainX = trainX[10000:]\n",
    "valY = trainY[:10000]\n",
    "trainY = trainY[10000:]\n"
   ]
  },
  {
   "cell_type": "code",
   "execution_count": 0,
   "metadata": {
    "colab": {},
    "colab_type": "code",
    "id": "wRh91A5Wy1rD"
   },
   "outputs": [],
   "source": [
    "# Build the sequential model\n",
    "inputShape = Input(shape = (32,32,3))\n",
    "\n",
    "layer1 = Conv2D(32,(3,3),padding='same',activation='relu')(inputShape)\n",
    "layer1 = MaxPooling2D(pool_size=(2,2))(layer1)\n",
    "layer1 = Dropout(0.5)(layer1)\n",
    "\n",
    "layer2 = Conv2D(64,(3,3),padding='same',activation='relu')(layer1)\n",
    "layer2 = MaxPooling2D(pool_size=(2,2))(layer2)\n",
    "layer2 = Dropout(0.5)(layer2)\n",
    "\n",
    "layer3 = Conv2D(64,(3,3),padding='same',activation='relu')(layer1)\n",
    "layer3 = MaxPooling2D(pool_size=(2,2))(layer3)\n",
    "layer3 = Dropout(0.5)(layer3)\n",
    "\n",
    "output = Flatten()(layer3)\n",
    "output = Dense(64,activation='relu')(output)\n",
    "out = Dense(10,activation='softmax')(output)\n",
    "\n",
    "model = Model(inputs = inputShape,outputs = out)"
   ]
  },
  {
   "cell_type": "code",
   "execution_count": 0,
   "metadata": {
    "colab": {},
    "colab_type": "code",
    "id": "MUd5kuNIy4QE"
   },
   "outputs": [],
   "source": [
    "# Compile the model\n",
    "adam = Adam(lr=0.001)\n",
    "model.compile(\n",
    "    optimizer=adam,\n",
    "    loss='categorical_crossentropy',\n",
    "    metrics=['accuracy'])"
   ]
  },
  {
   "cell_type": "code",
   "execution_count": 0,
   "metadata": {
    "colab": {},
    "colab_type": "code",
    "id": "1cXQEXa_y9uy"
   },
   "outputs": [],
   "source": [
    "from keras.preprocessing.image import ImageDataGenerator\n",
    "\n",
    "trainGen = ImageDataGenerator()\n",
    "result = model.fit_generator(trainGen.flow(trainX,trainY,batch_size = 512),\n",
    "                             validation_data = (valX,valY),\n",
    "                             epochs=60,\n",
    "                             steps_per_epoch= len(trainX)//512,\n",
    "                             workers=20)"
   ]
  },
  {
   "cell_type": "code",
   "execution_count": 0,
   "metadata": {
    "colab": {},
    "colab_type": "code",
    "id": "GrJzF0IyzB6H"
   },
   "outputs": [],
   "source": [
    "# Plot the training and validation loss\n",
    "import matplotlib.pyplot as plt\n",
    "loss = result.history['loss']\n",
    "val_loss = result.history['val_loss']\n",
    "epochs = range(1,len(loss)+1)\n",
    "plt.plot(epochs,loss,'bo',label='Training loss') # blue dots\n",
    "plt.plot(epochs,val_loss,'b',label='Validation loss') # blue line\n",
    "plt.title(\"Training and validation loss\")\n",
    "plt.xlabel('Epochs')\n",
    "plt.ylabel('Loss')\n",
    "plt.legend()\n",
    "plt.show()\n",
    "\n",
    "# plot the training and validation accuracy\n",
    "plt.clf()\n",
    "acc_values = result.history['accuracy']\n",
    "val_acc_values = result.history['val_accuracy']\n",
    "plt.plot(epochs,acc_values,'bo',label='Training accuracy')\n",
    "plt.plot(epochs,val_acc_values,'b',label='Validation accuracy')\n",
    "plt.title('Training and validation accuracy')\n",
    "plt.xlabel('Epochs')\n",
    "plt.ylabel('Accuracy')\n",
    "plt.legend()\n",
    "plt.show()"
   ]
  },
  {
   "cell_type": "code",
   "execution_count": 0,
   "metadata": {
    "colab": {},
    "colab_type": "code",
    "id": "My62aTupZXi3"
   },
   "outputs": [],
   "source": [
    "predict = model.evaluate(testX,testY,verbose=1)\n",
    "print(\"Test Accuracy :\",predict[1])\n",
    "print(\"Test Loss :\",predict[0])\n"
   ]
  },
  {
   "cell_type": "code",
   "execution_count": 0,
   "metadata": {
    "colab": {},
    "colab_type": "code",
    "id": "3kceFgw7qEe3"
   },
   "outputs": [],
   "source": [
    "# Save the model\n",
    "model.save('CIFAR10.hdf5')"
   ]
  },
  {
   "cell_type": "code",
   "execution_count": 0,
   "metadata": {
    "colab": {},
    "colab_type": "code",
    "id": "CWPHEu-KqIEp"
   },
   "outputs": [],
   "source": [
    "# Load the model weights\n",
    "model.load_weights('CIFAR10.hdf5')"
   ]
  },
  {
   "cell_type": "code",
   "execution_count": 0,
   "metadata": {
    "colab": {},
    "colab_type": "code",
    "id": "D2HXGttYqQWJ"
   },
   "outputs": [],
   "source": [
    "# Display and verify the training data\n",
    "plt.imshow(testX[10])"
   ]
  },
  {
   "cell_type": "code",
   "execution_count": 0,
   "metadata": {
    "colab": {},
    "colab_type": "code",
    "id": "6M5fK3hPqT7_"
   },
   "outputs": [],
   "source": [
    "# Make a prediction\n",
    "model.predict(testX[10:11])"
   ]
  },
  {
   "cell_type": "code",
   "execution_count": 0,
   "metadata": {
    "colab": {},
    "colab_type": "code",
    "id": "3Dt5VVeEzFGk"
   },
   "outputs": [],
   "source": [
    "# Build the sequential model with inception block\n",
    "inputShape = Input(shape = (32,32,3))\n",
    "\n",
    "layer1 = Conv2D(32,(3,3),padding='same',activation='relu')(inputShape)\n",
    "layer1 = MaxPooling2D(pool_size=(2,2))(layer1)\n",
    "\n",
    "layer2 = Conv2D(64,(3,3),padding='same',activation='relu')(layer1)\n",
    "layer2 = MaxPooling2D(pool_size=(2,2))(layer2)\n",
    "\n",
    "layer3 = Conv2D(64,(3,3),padding='same',activation='relu')(layer1)\n",
    "layer3 = MaxPooling2D(pool_size=(2,2))(layer3)\n",
    "\n",
    "layer4 = Conv2D(64,(3,3),padding='same',activation='relu')(layer3)\n",
    "layer4 = BatchNormalization()(layer4)\n",
    "layer4 = MaxPooling2D(pool_size=(2,2))(layer4)\n",
    "layer4 = Dropout(0.5)(layer4)\n",
    "\n",
    "block1_1 = Conv2D(64, (1,1), activation='relu', padding='same')(layer4)\n",
    "block1_1 = Conv2D(64, (3,3), activation='relu', padding='same')(block1_1)\n",
    "block1_1 = Dropout(0.5)(block1_1)\n",
    "\n",
    "block1_2 = MaxPooling2D((3,3), strides = (1,1), padding='same')(layer4)\n",
    "block1_2 = Conv2D(64, (1,1), activation='relu', padding='same')(block1_2)\n",
    "block1_2 = Dropout(0.5)(block1_2)\n",
    "\n",
    "block1 = concatenate([block1_1, block1_2], axis=3)\n",
    "block1 = BatchNormalization()(block1)\n",
    "\n",
    "output = Flatten()(block1)\n",
    "out = Dense(10,activation='softmax')(output)\n",
    "\n",
    "model = Model(inputs = inputShape,outputs = out)"
   ]
  },
  {
   "cell_type": "code",
   "execution_count": 0,
   "metadata": {
    "colab": {},
    "colab_type": "code",
    "id": "EwaAz3zjzHTL"
   },
   "outputs": [],
   "source": [
    "model.summary()"
   ]
  },
  {
   "cell_type": "code",
   "execution_count": 0,
   "metadata": {
    "colab": {},
    "colab_type": "code",
    "id": "bQmcFu_VzJ4w"
   },
   "outputs": [],
   "source": [
    "# Compile the model\n",
    "adam = Adam(lr=0.001)\n",
    "model.compile(\n",
    "    optimizer=adam,\n",
    "    loss='categorical_crossentropy',\n",
    "    metrics=['accuracy'])"
   ]
  },
  {
   "cell_type": "code",
   "execution_count": 0,
   "metadata": {
    "colab": {},
    "colab_type": "code",
    "id": "ciMAn5zmzME2"
   },
   "outputs": [],
   "source": [
    "# Train the model with 1000 epochs\n",
    "result = model.fit_generator(trainGen.flow(trainX,trainY,batch_size = 512),\n",
    "                             validation_data = (valX,valY),\n",
    "                             epochs = 60,\n",
    "                             steps_per_epoch= len(trainX)//512,\n",
    "                             workers = 20)\n",
    "results=model.evaluate(testX,testY)\n",
    "print(results)"
   ]
  },
  {
   "cell_type": "code",
   "execution_count": 0,
   "metadata": {
    "colab": {},
    "colab_type": "code",
    "id": "PdWygHaCzOoY"
   },
   "outputs": [],
   "source": [
    "# Plot the training and validation loss\n",
    "import matplotlib.pyplot as plt\n",
    "loss = result.history['loss']\n",
    "val_loss = result.history['val_loss']\n",
    "epochs = range(1,len(loss)+1)\n",
    "plt.plot(epochs,loss,'bo',label='Training loss') # blue dots\n",
    "plt.plot(epochs,val_loss,'b',label='Validation loss') # blue line\n",
    "plt.title(\"Training and validation loss\")\n",
    "plt.xlabel('Epochs')\n",
    "plt.ylabel('Loss')\n",
    "plt.legend()\n",
    "plt.show()\n",
    "\n",
    "# plot the training and validation accuracy\n",
    "plt.clf()\n",
    "acc_values = result.history['accuracy']\n",
    "val_acc_values = result.history['val_accuracy']\n",
    "plt.plot(epochs,acc_values,'bo',label='Training accuracy')\n",
    "plt.plot(epochs,val_acc_values,'b',label='Validation accuracy')\n",
    "plt.title('Training and validation accuracy')\n",
    "plt.xlabel('Epochs')\n",
    "plt.ylabel('Accuracy')\n",
    "plt.legend()\n",
    "plt.show()"
   ]
  },
  {
   "cell_type": "code",
   "execution_count": 0,
   "metadata": {
    "colab": {},
    "colab_type": "code",
    "id": "_PAuQJXEmlWG"
   },
   "outputs": [],
   "source": [
    "predict = model.evaluate(testX,testY,verbose=1)\n",
    "print(\"Test Accuracy :\",predict[1])\n",
    "print(\"Test Loss :\",predict[0])"
   ]
  },
  {
   "cell_type": "code",
   "execution_count": 0,
   "metadata": {
    "colab": {},
    "colab_type": "code",
    "id": "tYUHEbJ-zRG2"
   },
   "outputs": [],
   "source": [
    "# Save the model\n",
    "model.save('CIFAR10_inception.hdf5')"
   ]
  },
  {
   "cell_type": "code",
   "execution_count": 0,
   "metadata": {
    "colab": {},
    "colab_type": "code",
    "id": "lZeYgLkizTWJ"
   },
   "outputs": [],
   "source": [
    "# Load the model weights\n",
    "model.load_weights('CIFAR10_inception.hdf5')"
   ]
  },
  {
   "cell_type": "code",
   "execution_count": 90,
   "metadata": {
    "colab": {
     "base_uri": "https://localhost:8080/",
     "height": 284
    },
    "colab_type": "code",
    "id": "VQPaDx4KzVhW",
    "outputId": "38fbdaf6-4424-4abd-ba29-c7f72256587c"
   },
   "outputs": [
    {
     "data": {
      "text/plain": [
       "<matplotlib.image.AxesImage at 0x7f9255342358>"
      ]
     },
     "execution_count": 90,
     "metadata": {
      "tags": []
     },
     "output_type": "execute_result"
    },
    {
     "data": {
      "image/png": "[encoded data removed]",
      "text/plain": [
       "<Figure size 432x288 with 1 Axes>"
      ]
     },
     "metadata": {
      "needs_background": "light",
      "tags": []
     },
     "output_type": "display_data"
    }
   ],
   "source": [
    "# Display and verify the training data\n",
    "plt.imshow(testX[11])"
   ]
  },
  {
   "cell_type": "code",
   "execution_count": 0,
   "metadata": {
    "colab": {},
    "colab_type": "code",
    "id": "vXvor-1ezXg_"
   },
   "outputs": [],
   "source": [
    "# Make a prediction\n",
    "model.predict(testX[11:12])"
   ]
  },
  {
   "cell_type": "code",
   "execution_count": 0,
   "metadata": {
    "colab": {},
    "colab_type": "code",
    "id": "5ewz8QC_3mTZ"
   },
   "outputs": [],
   "source": [
    "# Build the sequential model with residual block\n",
    "from keras.layers import add\n",
    "from keras.layers.convolutional import AveragePooling2D\n",
    "inputShape = Input(shape = (32,32,3))\n",
    "\n",
    "layer1 = Conv2D(32,(3,3),padding='same',activation='relu')(inputShape)\n",
    "layer1 = MaxPooling2D(pool_size=(2,2))(layer1)\n",
    "\n",
    "layer2 = Conv2D(64,(3,3),padding='same',activation='relu')(layer1)\n",
    "layer2 = MaxPooling2D(pool_size=(2,2))(layer2)\n",
    "\n",
    "layer3 = Conv2D(64,(3,3),padding='same',activation='relu')(layer1)\n",
    "layer3 = MaxPooling2D(pool_size=(2,2))(layer3)\n",
    "\n",
    "layer4 = Conv2D(64,(3,3),padding='same',activation='relu')(layer3)\n",
    "layer4 = BatchNormalization()(layer4)\n",
    "\n",
    "layer4 = Dropout(0.5)(layer4)\n",
    "\n",
    "layer5 = Conv2D(64,(3,3),padding='same',activation='relu')(layer4)\n",
    "layer5 = BatchNormalization()(layer5)\n",
    "\n",
    "layer5 = Dropout(0.5)(layer5)\n",
    "\n",
    "layer6 = Conv2D(64,(3,3),padding='same',activation='relu')(layer5)\n",
    "layer6 = BatchNormalization()(layer6)\n",
    "\n",
    "layer6 = Dropout(0.5)(layer6)\n",
    "layer6 = add([layer6,layer2])\n",
    "\n",
    "output = Flatten()(layer6)\n",
    "out = Dense(10,activation='softmax')(output)\n",
    "\n",
    "model = Model(inputs = inputShape,outputs = out)\n"
   ]
  },
  {
   "cell_type": "code",
   "execution_count": 0,
   "metadata": {
    "colab": {},
    "colab_type": "code",
    "id": "ZoWVWYTU-wep"
   },
   "outputs": [],
   "source": [
    "model.summary()"
   ]
  },
  {
   "cell_type": "code",
   "execution_count": 0,
   "metadata": {
    "colab": {},
    "colab_type": "code",
    "id": "IPXlq7QX_ciG"
   },
   "outputs": [],
   "source": [
    "# Compile the model\n",
    "adam = Adam(lr=0.001)\n",
    "model.compile(\n",
    "    optimizer=adam,\n",
    "    loss='categorical_crossentropy',\n",
    "    metrics=['accuracy'])"
   ]
  },
  {
   "cell_type": "code",
   "execution_count": 0,
   "metadata": {
    "colab": {},
    "colab_type": "code",
    "id": "vgMHACBy_ewD"
   },
   "outputs": [],
   "source": [
    "# Train the model with 1000 epochs\n",
    "result = model.fit_generator(trainGen.flow(trainX,trainY,batch_size = 512),\n",
    "                             validation_data = (valX,valY),\n",
    "                             epochs = 40,\n",
    "                             steps_per_epoch= len(trainX)//512,\n",
    "                             workers = 20)"
   ]
  },
  {
   "cell_type": "code",
   "execution_count": 0,
   "metadata": {
    "colab": {},
    "colab_type": "code",
    "id": "Rb7RjpN__h6r"
   },
   "outputs": [],
   "source": [
    "# Plot the training and validation loss\n",
    "import matplotlib.pyplot as plt\n",
    "loss = result.history['loss']\n",
    "val_loss = result.history['val_loss']\n",
    "epochs = range(1,len(loss)+1)\n",
    "plt.plot(epochs,loss,'bo',label='Training loss') # blue dots\n",
    "plt.plot(epochs,val_loss,'b',label='Validation loss') # blue line\n",
    "plt.title(\"Training and validation loss\")\n",
    "plt.xlabel('Epochs')\n",
    "plt.ylabel('Loss')\n",
    "plt.legend()\n",
    "plt.show()\n",
    "\n",
    "# plot the training and validation accuracy\n",
    "plt.clf()\n",
    "acc_values = result.history['accuracy']\n",
    "val_acc_values = result.history['val_accuracy']\n",
    "plt.plot(epochs,acc_values,'bo',label='Training accuracy')\n",
    "plt.plot(epochs,val_acc_values,'b',label='Validation accuracy')\n",
    "plt.title('Training and validation accuracy')\n",
    "plt.xlabel('Epochs')\n",
    "plt.ylabel('Accuracy')\n",
    "plt.legend()\n",
    "plt.show()"
   ]
  },
  {
   "cell_type": "code",
   "execution_count": 0,
   "metadata": {
    "colab": {},
    "colab_type": "code",
    "id": "Js0rcbctwMUH"
   },
   "outputs": [],
   "source": [
    "predict = model.evaluate(testX,testY,verbose=1)\n",
    "print(\"Test Accuracy :\",predict[1])\n",
    "print(\"Test Loss :\",predict[0])"
   ]
  },
  {
   "cell_type": "code",
   "execution_count": 0,
   "metadata": {
    "colab": {},
    "colab_type": "code",
    "id": "1H7k4p9yCFQ0"
   },
   "outputs": [],
   "source": [
    "# Save the model\n",
    "model.save('CIFAR10_residual.hdf5')"
   ]
  },
  {
   "cell_type": "code",
   "execution_count": 0,
   "metadata": {
    "colab": {},
    "colab_type": "code",
    "id": "DL9oELuTCH-R"
   },
   "outputs": [],
   "source": [
    "# Load the model weights\n",
    "model.load_weights('CIFAR10_residual.hdf5')"
   ]
  },
  {
   "cell_type": "code",
   "execution_count": 112,
   "metadata": {
    "colab": {
     "base_uri": "https://localhost:8080/",
     "height": 284
    },
    "colab_type": "code",
    "id": "dc2_rqoQCMTN",
    "outputId": "0fa78219-cde1-4b85-8661-62fec51147ac"
   },
   "outputs": [
    {
     "data": {
      "text/plain": [
       "<matplotlib.image.AxesImage at 0x7f9253c47ac8>"
      ]
     },
     "execution_count": 112,
     "metadata": {
      "tags": []
     },
     "output_type": "execute_result"
    },
    {
     "data": {
      "image/png": "[encoded data removed]",
      "text/plain": [
       "<Figure size 432x288 with 1 Axes>"
      ]
     },
     "metadata": {
      "needs_background": "light",
      "tags": []
     },
     "output_type": "display_data"
    }
   ],
   "source": [
    "# Display and verify the training data\n",
    "plt.imshow(testX[11])"
   ]
  },
  {
   "cell_type": "code",
   "execution_count": 0,
   "metadata": {
    "colab": {},
    "colab_type": "code",
    "id": "QMnaxXpjCPYX"
   },
   "outputs": [],
   "source": [
    "# Make a prediction\n",
    "model.predict(testX[11:12])"
   ]
  }
 ],
 "metadata": {
  "accelerator": "GPU",
  "colab": {
   "collapsed_sections": [],
   "name": "Cifar10.ipynb",
   "provenance": []
  },
  "kernelspec": {
   "display_name": "Python 3",
   "language": "python",
   "name": "python3"
  },
  "language_info": {
   "codemirror_mode": {
    "name": "ipython",
    "version": 3
   },
   "file_extension": ".py",
   "mimetype": "text/x-python",
   "name": "python",
   "nbconvert_exporter": "python",
   "pygments_lexer": "ipython3",
   "version": "3.7.4"
  }
 },
 "nbformat": 4,
 "nbformat_minor": 1
}
