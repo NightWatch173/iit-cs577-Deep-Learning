{
 "cells": [
  {
   "cell_type": "code",
   "execution_count": 7,
   "metadata": {},
   "outputs": [],
   "source": [
    "import numpy as np\n",
    "import pandas as pd\n",
    "from keras import models\n",
    "from keras import layers\n",
    "from sklearn.impute import SimpleImputer"
   ]
  },
  {
   "cell_type": "code",
   "execution_count": 8,
   "metadata": {},
   "outputs": [],
   "source": [
    "def load_crime_data(df):\n",
    "    dt = pd.read_csv(df,delim_whitespace = False,header=None)\n",
    "    dt = dt.replace(\"?\",np.NAN)\n",
    "    dt = dt.values\n",
    "    train_data = dt[:1500,5:127].astype(\"float\")\n",
    "    test_data = dt[1500:,5:127].astype(\"float\")\n",
    "    train_labels = dt[:1500,127:128].astype(\"float\")\n",
    "    test_labels = dt[1500:,127:128].astype(\"float\")\n",
    "    return (train_data,train_labels),(test_data,test_labels)"
   ]
  },
  {
   "cell_type": "code",
   "execution_count": 9,
   "metadata": {},
   "outputs": [],
   "source": [
    "(train_data,train_labels),(test_data,test_labels) = load_crime_data(\"https://archive.ics.uci.edu/ml/machine-learning-databases/communities/communities.data\")"
   ]
  },
  {
   "cell_type": "code",
   "execution_count": 10,
   "metadata": {},
   "outputs": [
    {
     "name": "stdout",
     "output_type": "stream",
     "text": [
      "(1500, 122)\n",
      "(494, 122)\n",
      "(1500, 1)\n",
      "(494, 1)\n"
     ]
    }
   ],
   "source": [
    "imp = SimpleImputer(missing_values=np.NAN, strategy='mean')\n",
    "train_data = imp.fit_transform(train_data)\n",
    "test_data = imp.fit_transform(test_data)\n",
    "train_labels = imp.fit_transform(train_labels)\n",
    "test_labels = imp.fit_transform(test_labels)\n",
    "print(train_data.shape)\n",
    "print(test_data.shape)\n",
    "print(train_labels.shape)\n",
    "print(test_labels.shape)"
   ]
  },
  {
   "cell_type": "code",
   "execution_count": 11,
   "metadata": {},
   "outputs": [
    {
     "data": {
      "text/plain": [
       "array([[0.19      , 0.33      , 0.02      , ..., 0.5       , 0.32      ,\n",
       "        0.14      ],\n",
       "       [0.        , 0.16      , 0.12      , ..., 0.45188285, 0.        ,\n",
       "        0.19075314],\n",
       "       [0.        , 0.42      , 0.49      , ..., 0.45188285, 0.        ,\n",
       "        0.19075314],\n",
       "       ...,\n",
       "       [0.        , 0.52      , 0.04      , ..., 0.45188285, 0.        ,\n",
       "        0.19075314],\n",
       "       [0.04      , 0.51      , 0.07      , ..., 0.45188285, 0.        ,\n",
       "        0.19075314],\n",
       "       [0.03      , 0.59      , 0.2       , ..., 0.45188285, 0.        ,\n",
       "        0.19075314]])"
      ]
     },
     "execution_count": 11,
     "metadata": {},
     "output_type": "execute_result"
    }
   ],
   "source": [
    "train_data"
   ]
  },
  {
   "cell_type": "code",
   "execution_count": 12,
   "metadata": {},
   "outputs": [],
   "source": [
    "def build_model():\n",
    "    model = models.Sequential()\n",
    "    model.add(layers.Dense(64,activation='relu',input_shape=(train_data.shape[1],)))\n",
    "    model.add(layers.Dense(64,activation='relu'))\n",
    "    model.add(layers.Dense(1))\n",
    "    model.compile(optimizer='rmsprop',loss='mse',metrics=['mae'])\n",
    "    return model"
   ]
  },
  {
   "cell_type": "code",
   "execution_count": 13,
   "metadata": {},
   "outputs": [
    {
     "name": "stdout",
     "output_type": "stream",
     "text": [
      "processing fold # 0\n",
      "375/375 [==============================] - 0s 40us/step\n",
      "0.10894224047660828\n",
      "processing fold # 1\n",
      "375/375 [==============================] - 0s 37us/step\n",
      "0.12997408211231232\n",
      "processing fold # 2\n",
      "375/375 [==============================] - 0s 42us/step\n",
      "0.11156613379716873\n",
      "processing fold # 3\n",
      "375/375 [==============================] - 0s 40us/step\n",
      "0.09851018339395523\n"
     ]
    }
   ],
   "source": [
    "# Training and validation of the model\n",
    "k = 4\n",
    "num_val_sample = len(train_data)//k\n",
    "num_epochs = 500\n",
    "all_scores = []\n",
    "all_mae_histories = []\n",
    "\n",
    "# k-fold cross validation\n",
    "for i in range(k):\n",
    "    print('processing fold #',i)\n",
    "    \n",
    "    # prepare validation fold\n",
    "    val_data = train_data[i * num_val_sample: (i+1) * num_val_sample]\n",
    "    val_labels = train_labels[i * num_val_sample: (i+1) * num_val_sample]\n",
    "    \n",
    "    # concentrate training fold\n",
    "    partial_train_data = np.concatenate(\n",
    "        [train_data[:i * num_val_sample],\n",
    "         train_data[(i+1) * num_val_sample:]],\n",
    "        axis = 0)\n",
    "    partial_train_labels = np.concatenate(\n",
    "        [train_labels[:i*num_val_sample],\n",
    "         train_labels[(i+1)*num_val_sample:]],\n",
    "        axis=0)\n",
    "    # train using the training fold\n",
    "    model = build_model() # create a compiled model using our function\n",
    "    history = model.fit(\n",
    "    partial_train_data,partial_train_labels,\n",
    "    epochs=num_epochs,batch_size=32,verbose=0) # silent mode (verbose=0)\n",
    "    test_mse_score,test_mae_score = model.evaluate(val_data,val_labels)\n",
    "    print(test_mae_score)\n",
    "    # record training performance\n",
    "    history_dict = history.history\n",
    "    mae_history = history.history['mae']\n",
    "    all_mae_histories.append(mae_history)\n",
    "    \n",
    "    # record validation set performace per fold\n",
    "    val_mse,val_mae = model.evaluate(val_data,val_labels,verbose=0)\n",
    "    all_scores.append(val_mae)\n",
    "    \n",
    "    # END OF LOOP\n",
    "\n",
    "# Compute average per-epoch MAE score for all folds\n",
    "average_mae_history = [np.mean([x[i] for x in all_mae_histories]) for i in range(num_epochs)]"
   ]
  },
  {
   "cell_type": "code",
   "execution_count": 14,
   "metadata": {},
   "outputs": [
    {
     "data": {
      "image/png": "[encoded data removed]",
      "text/plain": [
       "<Figure size 432x288 with 1 Axes>"
      ]
     },
     "metadata": {
      "needs_background": "light"
     },
     "output_type": "display_data"
    }
   ],
   "source": [
    "import matplotlib.pyplot as plt\n",
    "plt.plot(range(1,len(average_mae_history)+1),average_mae_history)\n",
    "plt.xlabel('Epochs')\n",
    "plt.ylabel('Validation MAE')\n",
    "plt.show()"
   ]
  },
  {
   "cell_type": "code",
   "execution_count": 15,
   "metadata": {},
   "outputs": [
    {
     "data": {
      "image/png": "[encoded data removed]",
      "text/plain": [
       "<Figure size 432x288 with 1 Axes>"
      ]
     },
     "metadata": {
      "needs_background": "light"
     },
     "output_type": "display_data"
    }
   ],
   "source": [
    "def smooth_curve(points, factor=0.9):\n",
    "    smoothed_points = []\n",
    "    for point in points:\n",
    "        if smoothed_points:\n",
    "            previous = smoothed_points[-1]\n",
    "            smoothed_points.append(previous * factor + point * (1 - factor))\n",
    "        else:\n",
    "            smoothed_points.append(point)\n",
    "    return smoothed_points\n",
    "\n",
    "smooth_mae_history = smooth_curve(average_mae_history[10:])\n",
    "\n",
    "plt.plot(range(1, len(smooth_mae_history) + 1), smooth_mae_history)\n",
    "plt.xlabel('Epochs')\n",
    "plt.ylabel('Validation MAE')\n",
    "plt.show()"
   ]
  },
  {
   "cell_type": "code",
   "execution_count": 20,
   "metadata": {},
   "outputs": [
    {
     "name": "stdout",
     "output_type": "stream",
     "text": [
      "Epoch 1/20\n",
      "1500/1500 [==============================] - 0s 79us/step - loss: 0.0394 - mae: 0.1428\n",
      "Epoch 2/20\n",
      "1500/1500 [==============================] - 0s 48us/step - loss: 0.0250 - mae: 0.1138\n",
      "Epoch 3/20\n",
      "1500/1500 [==============================] - 0s 47us/step - loss: 0.0223 - mae: 0.1059\n",
      "Epoch 4/20\n",
      "1500/1500 [==============================] - 0s 47us/step - loss: 0.0217 - mae: 0.1045\n",
      "Epoch 5/20\n",
      "1500/1500 [==============================] - 0s 50us/step - loss: 0.0202 - mae: 0.1014\n",
      "Epoch 6/20\n",
      "1500/1500 [==============================] - 0s 49us/step - loss: 0.0202 - mae: 0.0987\n",
      "Epoch 7/20\n",
      "1500/1500 [==============================] - 0s 49us/step - loss: 0.0195 - mae: 0.0990\n",
      "Epoch 8/20\n",
      "1500/1500 [==============================] - 0s 48us/step - loss: 0.0189 - mae: 0.0948\n",
      "Epoch 9/20\n",
      "1500/1500 [==============================] - 0s 50us/step - loss: 0.0190 - mae: 0.0967\n",
      "Epoch 10/20\n",
      "1500/1500 [==============================] - 0s 49us/step - loss: 0.0184 - mae: 0.0953\n",
      "Epoch 11/20\n",
      "1500/1500 [==============================] - 0s 50us/step - loss: 0.0181 - mae: 0.0935\n",
      "Epoch 12/20\n",
      "1500/1500 [==============================] - 0s 48us/step - loss: 0.0180 - mae: 0.0942\n",
      "Epoch 13/20\n",
      "1500/1500 [==============================] - 0s 48us/step - loss: 0.0173 - mae: 0.0898\n",
      "Epoch 14/20\n",
      "1500/1500 [==============================] - 0s 50us/step - loss: 0.0172 - mae: 0.0915\n",
      "Epoch 15/20\n",
      "1500/1500 [==============================] - 0s 49us/step - loss: 0.0169 - mae: 0.0905\n",
      "Epoch 16/20\n",
      "1500/1500 [==============================] - 0s 52us/step - loss: 0.0165 - mae: 0.0880\n",
      "Epoch 17/20\n",
      "1500/1500 [==============================] - 0s 52us/step - loss: 0.0166 - mae: 0.0895\n",
      "Epoch 18/20\n",
      "1500/1500 [==============================] - 0s 50us/step - loss: 0.0165 - mae: 0.0894\n",
      "Epoch 19/20\n",
      "1500/1500 [==============================] - 0s 51us/step - loss: 0.0159 - mae: 0.0885\n",
      "Epoch 20/20\n",
      "1500/1500 [==============================] - 0s 50us/step - loss: 0.0157 - mae: 0.0869\n",
      "494/494 [==============================] - 0s 34us/step\n"
     ]
    }
   ],
   "source": [
    "# Tune the model hyper paramters and retrain\n",
    "model = build_model()\n",
    "\n",
    "# Train on the entire dataset\n",
    "model.fit(train_data,train_labels,epochs = 20,batch_size = 16,verbose = 1)\n",
    "\n",
    "# Evaluate performace\n",
    "test_mse_score,test_mae_score = model.evaluate(test_data,test_labels)"
   ]
  },
  {
   "cell_type": "code",
   "execution_count": 21,
   "metadata": {},
   "outputs": [
    {
     "data": {
      "text/plain": [
       "0.09149861335754395"
      ]
     },
     "execution_count": 21,
     "metadata": {},
     "output_type": "execute_result"
    }
   ],
   "source": [
    "# Display the testing score\n",
    "test_mae_score"
   ]
  },
  {
   "cell_type": "code",
   "execution_count": 23,
   "metadata": {},
   "outputs": [],
   "source": [
    "# Save the model details\n",
    "model.save('crime_classify.hdf5')"
   ]
  },
  {
   "cell_type": "code",
   "execution_count": null,
   "metadata": {},
   "outputs": [],
   "source": []
  }
 ],
 "metadata": {
  "kernelspec": {
   "display_name": "tensor",
   "language": "python",
   "name": "tensor"
  },
  "language_info": {
   "codemirror_mode": {
    "name": "ipython",
    "version": 3
   },
   "file_extension": ".py",
   "mimetype": "text/x-python",
   "name": "python",
   "nbconvert_exporter": "python",
   "pygments_lexer": "ipython3",
   "version": "3.6.10"
  }
 },
 "nbformat": 4,
 "nbformat_minor": 2
}
