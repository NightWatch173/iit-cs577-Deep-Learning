{
 "cells": [
  {
   "cell_type": "code",
   "execution_count": 75,
   "metadata": {},
   "outputs": [],
   "source": [
    "from keras.datasets import cifar10\n",
    "from keras import models\n",
    "from keras import layers\n",
    "from keras.layers import Dense\n",
    "import keras.utils as ku\n",
    "from keras.optimizers import RMSprop\n",
    "from keras.layers.core import Activation\n",
    "from keras.optimizers import SGD\n",
    "import numpy as np\n",
    "import matplotlib.pyplot as plt\n"
   ]
  },
  {
   "cell_type": "code",
   "execution_count": 76,
   "metadata": {},
   "outputs": [
    {
     "name": "stdout",
     "output_type": "stream",
     "text": [
      "(15000, 32, 32, 3)\n",
      "(15000, 1)\n",
      "(3000, 32, 32, 3)\n",
      "(3000, 1)\n"
     ]
    }
   ],
   "source": [
    "# The data, split between train and test sets:\n",
    "(train_images, train_labels), (test_images, test_labels) = cifar10.load_data()\n",
    "\n",
    "\n",
    "train_images_subs= train_images[np.where(train_labels[:,0] < 3)[0],:]\n",
    "train_labels_subs = train_labels[np.where(train_labels[:,0] < 3)[0],:]\n",
    "test_images_subs = test_images[np.where(test_labels[:,0] < 3)[0],:]\n",
    "test_labels_subs = test_labels[np.where(test_labels[:,0] < 3)[0],:]\n",
    "print(train_images_subs.shape)\n",
    "print(train_labels_subs.shape)\n",
    "print(test_images_subs.shape)\n",
    "print(test_labels_subs.shape)\n"
   ]
  },
  {
   "cell_type": "code",
   "execution_count": 77,
   "metadata": {},
   "outputs": [],
   "source": [
    "train_labels_subs = ku.to_categorical(train_labels_subs,3)\n",
    "test_labels_subs = ku.to_categorical(test_labels_subs,3)\n",
    "\n",
    "\n",
    "train_images_subs= train_images_subs.astype('float')/255.0\n",
    "test_images_subs = test_images_subs.astype('float')/255.0\n",
    "\n",
    "\n",
    "train_val = train_images_subs[:3000]\n",
    "partial_train_val = train_images_subs[3000:]\n",
    "train_lab_val = train_labels_subs[:3000]\n",
    "partial_train_lab_val = train_labels_subs[3000:]"
   ]
  },
  {
   "cell_type": "code",
   "execution_count": 78,
   "metadata": {},
   "outputs": [
    {
     "name": "stdout",
     "output_type": "stream",
     "text": [
      "Train on 12000 samples, validate on 3000 samples\n",
      "Epoch 1/60\n",
      "12000/12000 [==============================] - 3s 231us/step - loss: 1.0758 - accuracy: 0.5023 - val_loss: 0.8769 - val_accuracy: 0.6517\n",
      "Epoch 2/60\n",
      "12000/12000 [==============================] - 2s 205us/step - loss: 0.8270 - accuracy: 0.6744 - val_loss: 0.7315 - val_accuracy: 0.7100\n",
      "Epoch 3/60\n",
      "12000/12000 [==============================] - 2s 208us/step - loss: 0.7137 - accuracy: 0.7145 - val_loss: 0.6547 - val_accuracy: 0.7460\n",
      "Epoch 4/60\n",
      "12000/12000 [==============================] - 3s 209us/step - loss: 0.6595 - accuracy: 0.7417 - val_loss: 0.6281 - val_accuracy: 0.7437\n",
      "Epoch 5/60\n",
      "12000/12000 [==============================] - 3s 214us/step - loss: 0.6248 - accuracy: 0.7570 - val_loss: 0.5683 - val_accuracy: 0.7740\n",
      "Epoch 6/60\n",
      "12000/12000 [==============================] - 3s 220us/step - loss: 0.5999 - accuracy: 0.7638 - val_loss: 0.5649 - val_accuracy: 0.7927\n",
      "Epoch 7/60\n",
      "12000/12000 [==============================] - 3s 219us/step - loss: 0.5477 - accuracy: 0.7872 - val_loss: 0.5036 - val_accuracy: 0.8023\n",
      "Epoch 8/60\n",
      "12000/12000 [==============================] - 3s 222us/step - loss: 0.5987 - accuracy: 0.7701 - val_loss: 0.5154 - val_accuracy: 0.8007\n",
      "Epoch 9/60\n",
      "12000/12000 [==============================] - 3s 225us/step - loss: 0.5075 - accuracy: 0.7979 - val_loss: 0.4892 - val_accuracy: 0.8003\n",
      "Epoch 10/60\n",
      "12000/12000 [==============================] - 3s 228us/step - loss: 0.4872 - accuracy: 0.8062 - val_loss: 0.4921 - val_accuracy: 0.8053\n",
      "Epoch 11/60\n",
      "12000/12000 [==============================] - 3s 227us/step - loss: 0.4740 - accuracy: 0.8128 - val_loss: 0.5010 - val_accuracy: 0.8033\n",
      "Epoch 12/60\n",
      "12000/12000 [==============================] - 3s 225us/step - loss: 0.4653 - accuracy: 0.8151 - val_loss: 0.4899 - val_accuracy: 0.8020\n",
      "Epoch 13/60\n",
      "12000/12000 [==============================] - 3s 224us/step - loss: 0.4642 - accuracy: 0.8141 - val_loss: 0.4608 - val_accuracy: 0.8217\n",
      "Epoch 14/60\n",
      "12000/12000 [==============================] - 3s 223us/step - loss: 0.4456 - accuracy: 0.8227 - val_loss: 0.4547 - val_accuracy: 0.8193\n",
      "Epoch 15/60\n",
      "12000/12000 [==============================] - 3s 224us/step - loss: 0.4354 - accuracy: 0.8265 - val_loss: 0.4630 - val_accuracy: 0.8190\n",
      "Epoch 16/60\n",
      "12000/12000 [==============================] - 3s 224us/step - loss: 0.4339 - accuracy: 0.8250 - val_loss: 0.4557 - val_accuracy: 0.8240\n",
      "Epoch 17/60\n",
      "12000/12000 [==============================] - 3s 224us/step - loss: 0.4288 - accuracy: 0.8267 - val_loss: 0.4560 - val_accuracy: 0.8200\n",
      "Epoch 18/60\n",
      "12000/12000 [==============================] - 3s 241us/step - loss: 0.4256 - accuracy: 0.8312 - val_loss: 0.4512 - val_accuracy: 0.8213\n",
      "Epoch 19/60\n",
      "12000/12000 [==============================] - 3s 240us/step - loss: 0.4193 - accuracy: 0.8346 - val_loss: 0.4711 - val_accuracy: 0.8143\n",
      "Epoch 20/60\n",
      "12000/12000 [==============================] - 3s 223us/step - loss: 0.4190 - accuracy: 0.8339 - val_loss: 0.4494 - val_accuracy: 0.8247\n",
      "Epoch 21/60\n",
      "12000/12000 [==============================] - 3s 227us/step - loss: 0.4234 - accuracy: 0.8291 - val_loss: 0.4755 - val_accuracy: 0.8107\n",
      "Epoch 22/60\n",
      "12000/12000 [==============================] - 3s 229us/step - loss: 0.4068 - accuracy: 0.8374 - val_loss: 0.4571 - val_accuracy: 0.8170\n",
      "Epoch 23/60\n",
      "12000/12000 [==============================] - 3s 256us/step - loss: 0.4063 - accuracy: 0.8367 - val_loss: 0.4432 - val_accuracy: 0.8283\n",
      "Epoch 24/60\n",
      "12000/12000 [==============================] - 3s 245us/step - loss: 0.3981 - accuracy: 0.8433 - val_loss: 0.4466 - val_accuracy: 0.8243\n",
      "Epoch 25/60\n",
      "12000/12000 [==============================] - 3s 233us/step - loss: 0.3915 - accuracy: 0.8443 - val_loss: 0.4753 - val_accuracy: 0.8147\n",
      "Epoch 26/60\n",
      "12000/12000 [==============================] - 3s 232us/step - loss: 0.3995 - accuracy: 0.8420 - val_loss: 0.4796 - val_accuracy: 0.8113\n",
      "Epoch 27/60\n",
      "12000/12000 [==============================] - 3s 239us/step - loss: 0.3884 - accuracy: 0.8462 - val_loss: 0.4671 - val_accuracy: 0.8200\n",
      "Epoch 28/60\n",
      "12000/12000 [==============================] - 3s 226us/step - loss: 0.3892 - accuracy: 0.8462 - val_loss: 0.4449 - val_accuracy: 0.8263\n",
      "Epoch 29/60\n",
      "12000/12000 [==============================] - 3s 224us/step - loss: 0.3820 - accuracy: 0.8467 - val_loss: 0.4382 - val_accuracy: 0.8290\n",
      "Epoch 30/60\n",
      "12000/12000 [==============================] - 3s 227us/step - loss: 0.3753 - accuracy: 0.8509 - val_loss: 0.4400 - val_accuracy: 0.8240\n",
      "Epoch 31/60\n",
      "12000/12000 [==============================] - 3s 223us/step - loss: 0.3725 - accuracy: 0.8545 - val_loss: 0.4398 - val_accuracy: 0.8300\n",
      "Epoch 32/60\n",
      "12000/12000 [==============================] - 3s 228us/step - loss: 0.3698 - accuracy: 0.8536 - val_loss: 0.4668 - val_accuracy: 0.8173\n",
      "Epoch 33/60\n",
      "12000/12000 [==============================] - 3s 223us/step - loss: 0.3669 - accuracy: 0.8539 - val_loss: 0.4638 - val_accuracy: 0.8203\n",
      "Epoch 34/60\n",
      "12000/12000 [==============================] - 3s 225us/step - loss: 0.3619 - accuracy: 0.8564 - val_loss: 0.4687 - val_accuracy: 0.8213\n",
      "Epoch 35/60\n",
      "12000/12000 [==============================] - 3s 223us/step - loss: 0.3597 - accuracy: 0.8589 - val_loss: 0.4314 - val_accuracy: 0.8343\n",
      "Epoch 36/60\n",
      "12000/12000 [==============================] - 3s 223us/step - loss: 0.3579 - accuracy: 0.8626 - val_loss: 0.4304 - val_accuracy: 0.8337\n",
      "Epoch 37/60\n",
      "12000/12000 [==============================] - 3s 222us/step - loss: 0.3525 - accuracy: 0.8640 - val_loss: 0.4315 - val_accuracy: 0.8323\n",
      "Epoch 38/60\n",
      "12000/12000 [==============================] - 3s 219us/step - loss: 0.3459 - accuracy: 0.8687 - val_loss: 0.4281 - val_accuracy: 0.8377\n",
      "Epoch 39/60\n",
      "12000/12000 [==============================] - 3s 225us/step - loss: 0.3457 - accuracy: 0.8664 - val_loss: 0.4255 - val_accuracy: 0.8353\n",
      "Epoch 40/60\n",
      "12000/12000 [==============================] - 3s 220us/step - loss: 0.3380 - accuracy: 0.8685 - val_loss: 0.4259 - val_accuracy: 0.8350\n",
      "Epoch 41/60\n",
      "12000/12000 [==============================] - 3s 221us/step - loss: 0.3377 - accuracy: 0.8696 - val_loss: 0.4342 - val_accuracy: 0.8300\n",
      "Epoch 42/60\n",
      "12000/12000 [==============================] - 3s 223us/step - loss: 0.3334 - accuracy: 0.8699 - val_loss: 0.4327 - val_accuracy: 0.8310\n",
      "Epoch 43/60\n",
      "12000/12000 [==============================] - 3s 222us/step - loss: 0.3282 - accuracy: 0.8723 - val_loss: 0.4249 - val_accuracy: 0.8370\n",
      "Epoch 44/60\n",
      "12000/12000 [==============================] - 3s 221us/step - loss: 0.3349 - accuracy: 0.8693 - val_loss: 0.4482 - val_accuracy: 0.8227\n",
      "Epoch 45/60\n",
      "12000/12000 [==============================] - 3s 221us/step - loss: 0.3265 - accuracy: 0.8733 - val_loss: 0.4133 - val_accuracy: 0.8393\n",
      "Epoch 46/60\n",
      "12000/12000 [==============================] - 3s 221us/step - loss: 0.3208 - accuracy: 0.8763 - val_loss: 0.4356 - val_accuracy: 0.8247\n",
      "Epoch 47/60\n",
      "12000/12000 [==============================] - 3s 221us/step - loss: 0.3168 - accuracy: 0.8786 - val_loss: 0.4410 - val_accuracy: 0.8237\n",
      "Epoch 48/60\n",
      "12000/12000 [==============================] - 3s 222us/step - loss: 0.3150 - accuracy: 0.8798 - val_loss: 0.4201 - val_accuracy: 0.8347\n",
      "Epoch 49/60\n",
      "12000/12000 [==============================] - 3s 243us/step - loss: 0.3120 - accuracy: 0.8798 - val_loss: 0.4118 - val_accuracy: 0.8403\n",
      "Epoch 50/60\n",
      "12000/12000 [==============================] - 3s 267us/step - loss: 0.3095 - accuracy: 0.8827 - val_loss: 0.4443 - val_accuracy: 0.8203\n",
      "Epoch 51/60\n",
      "12000/12000 [==============================] - 3s 267us/step - loss: 0.3063 - accuracy: 0.8813 - val_loss: 0.4201 - val_accuracy: 0.8400\n",
      "Epoch 52/60\n",
      "12000/12000 [==============================] - 3s 266us/step - loss: 0.3055 - accuracy: 0.8810 - val_loss: 0.4903 - val_accuracy: 0.8107\n",
      "Epoch 53/60\n",
      "12000/12000 [==============================] - 3s 266us/step - loss: 0.3030 - accuracy: 0.8845 - val_loss: 0.4176 - val_accuracy: 0.8420\n",
      "Epoch 54/60\n",
      "12000/12000 [==============================] - 3s 263us/step - loss: 0.2937 - accuracy: 0.8877 - val_loss: 0.4166 - val_accuracy: 0.8370\n",
      "Epoch 55/60\n",
      "12000/12000 [==============================] - 3s 268us/step - loss: 0.2881 - accuracy: 0.8891 - val_loss: 0.4033 - val_accuracy: 0.8490\n"
     ]
    },
    {
     "name": "stdout",
     "output_type": "stream",
     "text": [
      "Epoch 56/60\n",
      "12000/12000 [==============================] - 3s 267us/step - loss: 0.2844 - accuracy: 0.8925 - val_loss: 0.4185 - val_accuracy: 0.8337\n",
      "Epoch 57/60\n",
      "12000/12000 [==============================] - 3s 262us/step - loss: 0.2857 - accuracy: 0.8927 - val_loss: 0.4089 - val_accuracy: 0.8430\n",
      "Epoch 58/60\n",
      "12000/12000 [==============================] - 3s 264us/step - loss: 0.2859 - accuracy: 0.8925 - val_loss: 0.4106 - val_accuracy: 0.8433\n",
      "Epoch 59/60\n",
      "12000/12000 [==============================] - 3s 262us/step - loss: 0.2789 - accuracy: 0.8970 - val_loss: 0.4322 - val_accuracy: 0.8293\n",
      "Epoch 60/60\n",
      "12000/12000 [==============================] - 3s 262us/step - loss: 0.2832 - accuracy: 0.8925 - val_loss: 0.4007 - val_accuracy: 0.8467\n"
     ]
    }
   ],
   "source": [
    "model = models.Sequential()\n",
    "model.add(layers.Conv2D(32,(3,3),padding='same',input_shape=(32,32,3)))\n",
    "model.add(Activation('relu'))\n",
    "model.add(layers.Flatten())\n",
    "model.add(Dense(3))\n",
    "model.add(Activation('softmax'))\n",
    "model.compile(optimizer=SGD(lr=0.01,decay = 1e-6,momentum=0.9,nesterov=True),loss='categorical_crossentropy',metrics=['accuracy'])\n",
    "\n",
    "history = model.fit(\n",
    "    partial_train_val,partial_train_lab_val,\n",
    "    epochs=60,\n",
    "    batch_size = 512,\n",
    "    validation_data = (train_val,train_lab_val))"
   ]
  },
  {
   "cell_type": "code",
   "execution_count": 79,
   "metadata": {},
   "outputs": [
    {
     "name": "stdout",
     "output_type": "stream",
     "text": [
      "dict_keys(['val_loss', 'val_accuracy', 'loss', 'accuracy'])\n"
     ]
    }
   ],
   "source": [
    "history_dict = history.history\n",
    "print(history_dict.keys())"
   ]
  },
  {
   "cell_type": "code",
   "execution_count": 80,
   "metadata": {},
   "outputs": [
    {
     "data": {
      "image/png": "[encoded data removed]",
      "text/plain": [
       "<Figure size 432x288 with 1 Axes>"
      ]
     },
     "metadata": {
      "needs_background": "light"
     },
     "output_type": "display_data"
    },
    {
     "data": {
      "image/png": "[encoded data removed]",
      "text/plain": [
       "<Figure size 432x288 with 1 Axes>"
      ]
     },
     "metadata": {
      "needs_background": "light"
     },
     "output_type": "display_data"
    }
   ],
   "source": [
    "loss_values = history_dict['loss']\n",
    "val_loss_values = history_dict['val_loss']\n",
    "epochs = range(1, len(loss_values) + 1)\n",
    "\n",
    "plt.plot(epochs, loss_values, 'bo', label= 'Training loss')\n",
    "plt.plot(epochs,val_loss_values, 'b', label=\"Validation loss\")\n",
    "plt.title('Training and Validation loss')\n",
    "plt.xlabel('Epochs')\n",
    "plt.ylabel('Loss')\n",
    "plt.legend()\n",
    "plt.show()\n",
    "\n",
    "\n",
    "acc_values = history_dict['accuracy']\n",
    "val_acc_values = history_dict['val_accuracy']\n",
    "epochss = range(1, len(acc_values) + 1)\n",
    "\n",
    "plt.plot(epochss, acc_values, 'bo', label= 'Training accuracy')\n",
    "plt.plot(epochss,val_acc_values, 'b', label=\"Validation accuracy\")\n",
    "plt.title('Training and Validation accuracy')\n",
    "plt.xlabel('Epochs')\n",
    "plt.ylabel('Accuracy')\n",
    "plt.legend()\n",
    "plt.show()\n"
   ]
  },
  {
   "cell_type": "code",
   "execution_count": 81,
   "metadata": {},
   "outputs": [
    {
     "name": "stdout",
     "output_type": "stream",
     "text": [
      "Epoch 1/40\n",
      "15000/15000 [==============================] - 3s 219us/step - loss: 0.2974 - accuracy: 0.8882\n",
      "Epoch 2/40\n",
      "15000/15000 [==============================] - 3s 210us/step - loss: 0.2929 - accuracy: 0.8895\n",
      "Epoch 3/40\n",
      "15000/15000 [==============================] - 3s 216us/step - loss: 0.2880 - accuracy: 0.8917\n",
      "Epoch 4/40\n",
      "15000/15000 [==============================] - 3s 220us/step - loss: 0.2858 - accuracy: 0.8916\n",
      "Epoch 5/40\n",
      "15000/15000 [==============================] - 3s 222us/step - loss: 0.2821 - accuracy: 0.8944\n",
      "Epoch 6/40\n",
      "15000/15000 [==============================] - 4s 242us/step - loss: 0.2793 - accuracy: 0.8949\n",
      "Epoch 7/40\n",
      "15000/15000 [==============================] - 4s 246us/step - loss: 0.2758 - accuracy: 0.8969\n",
      "Epoch 8/40\n",
      "15000/15000 [==============================] - 4s 234us/step - loss: 0.2731 - accuracy: 0.8983\n",
      "Epoch 9/40\n",
      "15000/15000 [==============================] - 4s 236us/step - loss: 0.2700 - accuracy: 0.8987\n",
      "Epoch 10/40\n",
      "15000/15000 [==============================] - 4s 234us/step - loss: 0.2674 - accuracy: 0.8999\n",
      "Epoch 11/40\n",
      "15000/15000 [==============================] - 4s 240us/step - loss: 0.2650 - accuracy: 0.9017\n",
      "Epoch 12/40\n",
      "15000/15000 [==============================] - 4s 250us/step - loss: 0.2613 - accuracy: 0.9027\n",
      "Epoch 13/40\n",
      "15000/15000 [==============================] - 4s 248us/step - loss: 0.2592 - accuracy: 0.9025\n",
      "Epoch 14/40\n",
      "15000/15000 [==============================] - 4s 251us/step - loss: 0.2569 - accuracy: 0.9047\n",
      "Epoch 15/40\n",
      "15000/15000 [==============================] - 4s 243us/step - loss: 0.2546 - accuracy: 0.9042\n",
      "Epoch 16/40\n",
      "15000/15000 [==============================] - 4s 242us/step - loss: 0.2520 - accuracy: 0.9069\n",
      "Epoch 17/40\n",
      "15000/15000 [==============================] - 4s 244us/step - loss: 0.2507 - accuracy: 0.9080\n",
      "Epoch 18/40\n",
      "15000/15000 [==============================] - 4s 251us/step - loss: 0.2472 - accuracy: 0.9084\n",
      "Epoch 19/40\n",
      "15000/15000 [==============================] - 4s 271us/step - loss: 0.2465 - accuracy: 0.9095\n",
      "Epoch 20/40\n",
      "15000/15000 [==============================] - 4s 268us/step - loss: 0.2434 - accuracy: 0.9105\n",
      "Epoch 21/40\n",
      "15000/15000 [==============================] - 4s 248us/step - loss: 0.2429 - accuracy: 0.9117\n",
      "Epoch 22/40\n",
      "15000/15000 [==============================] - 4s 248us/step - loss: 0.2410 - accuracy: 0.9103\n",
      "Epoch 23/40\n",
      "15000/15000 [==============================] - 4s 238us/step - loss: 0.2371 - accuracy: 0.9105\n",
      "Epoch 24/40\n",
      "15000/15000 [==============================] - 4s 237us/step - loss: 0.2376 - accuracy: 0.9103\n",
      "Epoch 25/40\n",
      "15000/15000 [==============================] - 4s 238us/step - loss: 0.2338 - accuracy: 0.9139\n",
      "Epoch 26/40\n",
      "15000/15000 [==============================] - 4s 241us/step - loss: 0.2324 - accuracy: 0.9129\n",
      "Epoch 27/40\n",
      "15000/15000 [==============================] - 4s 239us/step - loss: 0.2308 - accuracy: 0.9146\n",
      "Epoch 28/40\n",
      "15000/15000 [==============================] - 4s 238us/step - loss: 0.2293 - accuracy: 0.9167\n",
      "Epoch 29/40\n",
      "15000/15000 [==============================] - 4s 250us/step - loss: 0.2290 - accuracy: 0.9159\n",
      "Epoch 30/40\n",
      "15000/15000 [==============================] - 4s 238us/step - loss: 0.2264 - accuracy: 0.9157\n",
      "Epoch 31/40\n",
      "15000/15000 [==============================] - 4s 239us/step - loss: 0.2250 - accuracy: 0.9169\n",
      "Epoch 32/40\n",
      "15000/15000 [==============================] - 4s 250us/step - loss: 0.2217 - accuracy: 0.9187\n",
      "Epoch 33/40\n",
      "15000/15000 [==============================] - 4s 243us/step - loss: 0.2206 - accuracy: 0.91930s - l\n",
      "Epoch 34/40\n",
      "15000/15000 [==============================] - 4s 242us/step - loss: 0.2203 - accuracy: 0.9175\n",
      "Epoch 35/40\n",
      "15000/15000 [==============================] - 4s 242us/step - loss: 0.2179 - accuracy: 0.9199\n",
      "Epoch 36/40\n",
      "15000/15000 [==============================] - 4s 242us/step - loss: 0.2174 - accuracy: 0.9205\n",
      "Epoch 37/40\n",
      "15000/15000 [==============================] - 4s 241us/step - loss: 0.2162 - accuracy: 0.9208\n",
      "Epoch 38/40\n",
      "15000/15000 [==============================] - 4s 262us/step - loss: 0.2123 - accuracy: 0.9207\n",
      "Epoch 39/40\n",
      "15000/15000 [==============================] - 4s 263us/step - loss: 0.2126 - accuracy: 0.9206\n",
      "Epoch 40/40\n",
      "15000/15000 [==============================] - 4s 260us/step - loss: 0.2109 - accuracy: 0.9238\n",
      "3000/3000 [==============================] - 0s 114us/step\n",
      "[0.39114836502075195, 0.8510000109672546]\n"
     ]
    }
   ],
   "source": [
    "sgd = SGD(lr=0.001,decay = 1e-6,momentum=0.9,nesterov=True)\n",
    "model.compile(\n",
    "    optimizer=sgd,\n",
    "    loss='categorical_crossentropy',\n",
    "    metrics=['accuracy'])\n",
    "\n",
    "history = model.fit(train_images_subs,train_labels_subs,epochs=40,batch_size=64)\n",
    "results=model.evaluate(test_images_subs,test_labels_subs)\n",
    "print(results)"
   ]
  },
  {
   "cell_type": "code",
   "execution_count": 82,
   "metadata": {},
   "outputs": [
    {
     "name": "stdout",
     "output_type": "stream",
     "text": [
      "dict_keys(['loss', 'accuracy'])\n"
     ]
    }
   ],
   "source": [
    "history_dict = history.history\n",
    "print(history_dict.keys())"
   ]
  },
  {
   "cell_type": "code",
   "execution_count": 83,
   "metadata": {},
   "outputs": [
    {
     "data": {
      "image/png": "[encoded data removed]",
      "text/plain": [
       "<Figure size 432x288 with 1 Axes>"
      ]
     },
     "metadata": {
      "needs_background": "light"
     },
     "output_type": "display_data"
    },
    {
     "data": {
      "image/png": "[encoded data removed]",
      "text/plain": [
       "<Figure size 432x288 with 1 Axes>"
      ]
     },
     "metadata": {
      "needs_background": "light"
     },
     "output_type": "display_data"
    }
   ],
   "source": [
    "import matplotlib.pyplot as plt\n",
    "loss = history_dict['loss']\n",
    "epochs = range(1,len(loss)+1)\n",
    "plt.plot(epochs,loss,'bo',label='Training loss') \n",
    "plt.title(\"Training and validation loss\")\n",
    "plt.xlabel('Epochs')\n",
    "plt.ylabel('Loss')\n",
    "plt.legend()\n",
    "plt.show()\n",
    "\n",
    "plt.clf()\n",
    "acc_values = history_dict['accuracy']\n",
    "plt.plot(epochs,acc_values,'bo',label='Training acc')\n",
    "plt.title('Training and validation accuracy')\n",
    "plt.xlabel('Epochs')\n",
    "plt.ylabel('Accuracy')\n",
    "plt.legend()\n",
    "plt.show()"
   ]
  },
  {
   "cell_type": "code",
   "execution_count": 84,
   "metadata": {},
   "outputs": [],
   "source": [
    "# Save the model\n",
    "model.save('question1.hdf5')"
   ]
  },
  {
   "cell_type": "code",
   "execution_count": 85,
   "metadata": {},
   "outputs": [],
   "source": [
    "# Load the model weights\n",
    "model.load_weights('question1.hdf5')"
   ]
  },
  {
   "cell_type": "code",
   "execution_count": 88,
   "metadata": {},
   "outputs": [
    {
     "data": {
      "text/plain": [
       "<matplotlib.image.AxesImage at 0x12bce62d160>"
      ]
     },
     "execution_count": 88,
     "metadata": {},
     "output_type": "execute_result"
    },
    {
     "data": {
      "image/png": "[encoded data removed]",
      "text/plain": [
       "<Figure size 432x288 with 1 Axes>"
      ]
     },
     "metadata": {
      "needs_background": "light"
     },
     "output_type": "display_data"
    }
   ],
   "source": [
    "# Display and verify the training data\n",
    "plt.imshow(test_images[10])"
   ]
  },
  {
   "cell_type": "code",
   "execution_count": 89,
   "metadata": {},
   "outputs": [
    {
     "data": {
      "text/plain": [
       "array([[1., 0., 0.]], dtype=float32)"
      ]
     },
     "execution_count": 89,
     "metadata": {},
     "output_type": "execute_result"
    }
   ],
   "source": [
    "# Make a prediction\n",
    "model.predict(test_images[10:11])"
   ]
  }
 ],
 "metadata": {
  "kernelspec": {
   "display_name": "tensor",
   "language": "python",
   "name": "tensor"
  },
  "language_info": {
   "codemirror_mode": {
    "name": "ipython",
    "version": 3
   },
   "file_extension": ".py",
   "mimetype": "text/x-python",
   "name": "python",
   "nbconvert_exporter": "python",
   "pygments_lexer": "ipython3",
   "version": "3.6.10"
  }
 },
 "nbformat": 4,
 "nbformat_minor": 2
}
